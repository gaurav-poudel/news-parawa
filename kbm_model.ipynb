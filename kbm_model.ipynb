{
 "cells": [
  {
   "cell_type": "code",
   "execution_count": 1,
   "id": "db86ca73",
   "metadata": {},
   "outputs": [],
   "source": [
    "import pandas as pd\n",
    "import seaborn as sns\n",
    "import re\n",
    "from sklearn import preprocessing\n",
    "from nltk.tokenize import word_tokenize\n",
    "from sklearn.model_selection import train_test_split\n",
    "import nltk\n",
    "from sklearn.feature_extraction.text import TfidfVectorizer\n",
    "#nltk.download('stopwords')\n"
   ]
  },
  {
   "cell_type": "code",
   "execution_count": 2,
   "id": "1ec472d5",
   "metadata": {},
   "outputs": [],
   "source": [
    "from nltk.corpus import stopwords"
   ]
  },
  {
   "cell_type": "code",
   "execution_count": 3,
   "id": "60b42a57",
   "metadata": {},
   "outputs": [],
   "source": [
    "data = pd.read_csv(\"BBC News Train.csv\")"
   ]
  },
  {
   "cell_type": "code",
   "execution_count": null,
   "id": "beabf8a3",
   "metadata": {},
   "outputs": [],
   "source": []
  },
  {
   "cell_type": "code",
   "execution_count": null,
   "id": "de7fa8ba",
   "metadata": {},
   "outputs": [],
   "source": []
  },
  {
   "cell_type": "code",
   "execution_count": 4,
   "id": "ce62453c",
   "metadata": {},
   "outputs": [
    {
     "data": {
      "text/html": [
       "<div>\n",
       "<style scoped>\n",
       "    .dataframe tbody tr th:only-of-type {\n",
       "        vertical-align: middle;\n",
       "    }\n",
       "\n",
       "    .dataframe tbody tr th {\n",
       "        vertical-align: top;\n",
       "    }\n",
       "\n",
       "    .dataframe thead th {\n",
       "        text-align: right;\n",
       "    }\n",
       "</style>\n",
       "<table border=\"1\" class=\"dataframe\">\n",
       "  <thead>\n",
       "    <tr style=\"text-align: right;\">\n",
       "      <th></th>\n",
       "      <th>ArticleId</th>\n",
       "      <th>Text</th>\n",
       "      <th>Category</th>\n",
       "    </tr>\n",
       "  </thead>\n",
       "  <tbody>\n",
       "    <tr>\n",
       "      <th>0</th>\n",
       "      <td>1833</td>\n",
       "      <td>worldcom ex-boss launches defence lawyers defe...</td>\n",
       "      <td>business</td>\n",
       "    </tr>\n",
       "    <tr>\n",
       "      <th>1</th>\n",
       "      <td>154</td>\n",
       "      <td>german business confidence slides german busin...</td>\n",
       "      <td>business</td>\n",
       "    </tr>\n",
       "    <tr>\n",
       "      <th>2</th>\n",
       "      <td>1101</td>\n",
       "      <td>bbc poll indicates economic gloom citizens in ...</td>\n",
       "      <td>business</td>\n",
       "    </tr>\n",
       "    <tr>\n",
       "      <th>3</th>\n",
       "      <td>1976</td>\n",
       "      <td>lifestyle  governs mobile choice  faster  bett...</td>\n",
       "      <td>tech</td>\n",
       "    </tr>\n",
       "    <tr>\n",
       "      <th>4</th>\n",
       "      <td>917</td>\n",
       "      <td>enron bosses in $168m payout eighteen former e...</td>\n",
       "      <td>business</td>\n",
       "    </tr>\n",
       "  </tbody>\n",
       "</table>\n",
       "</div>"
      ],
      "text/plain": [
       "   ArticleId                                               Text  Category\n",
       "0       1833  worldcom ex-boss launches defence lawyers defe...  business\n",
       "1        154  german business confidence slides german busin...  business\n",
       "2       1101  bbc poll indicates economic gloom citizens in ...  business\n",
       "3       1976  lifestyle  governs mobile choice  faster  bett...      tech\n",
       "4        917  enron bosses in $168m payout eighteen former e...  business"
      ]
     },
     "execution_count": 4,
     "metadata": {},
     "output_type": "execute_result"
    }
   ],
   "source": [
    "data.head()"
   ]
  },
  {
   "cell_type": "code",
   "execution_count": null,
   "id": "27806d09",
   "metadata": {},
   "outputs": [],
   "source": []
  },
  {
   "cell_type": "code",
   "execution_count": 5,
   "id": "7cbae1fa",
   "metadata": {},
   "outputs": [
    {
     "data": {
      "text/plain": [
       "0       worldcom ex-boss launches defence lawyers defe...\n",
       "1       german business confidence slides german busin...\n",
       "2       bbc poll indicates economic gloom citizens in ...\n",
       "3       lifestyle  governs mobile choice  faster  bett...\n",
       "4       enron bosses in $168m payout eighteen former e...\n",
       "                              ...                        \n",
       "1485    double eviction from big brother model caprice...\n",
       "1486    dj double act revamp chart show dj duo jk and ...\n",
       "1487    weak dollar hits reuters revenues at media gro...\n",
       "1488    apple ipod family expands market apple has exp...\n",
       "1489    santy worm makes unwelcome visit thousands of ...\n",
       "Name: Text, Length: 1490, dtype: object"
      ]
     },
     "execution_count": 5,
     "metadata": {},
     "output_type": "execute_result"
    }
   ],
   "source": [
    "data['Text']"
   ]
  },
  {
   "cell_type": "code",
   "execution_count": null,
   "id": "39d48f05",
   "metadata": {},
   "outputs": [],
   "source": []
  },
  {
   "cell_type": "markdown",
   "id": "41b98864",
   "metadata": {},
   "source": [
    "# features"
   ]
  },
  {
   "cell_type": "code",
   "execution_count": 6,
   "id": "8106c576",
   "metadata": {},
   "outputs": [
    {
     "data": {
      "text/plain": [
       "array(['business', 'tech', 'politics', 'sport', 'entertainment'],\n",
       "      dtype=object)"
      ]
     },
     "execution_count": 6,
     "metadata": {},
     "output_type": "execute_result"
    }
   ],
   "source": [
    "data['Category'].unique()"
   ]
  },
  {
   "cell_type": "markdown",
   "id": "96df980c",
   "metadata": {},
   "source": [
    "# removing null values"
   ]
  },
  {
   "cell_type": "code",
   "execution_count": 7,
   "id": "84b12990",
   "metadata": {},
   "outputs": [
    {
     "data": {
      "text/plain": [
       "ArticleId    False\n",
       "Text         False\n",
       "Category     False\n",
       "dtype: bool"
      ]
     },
     "execution_count": 7,
     "metadata": {},
     "output_type": "execute_result"
    }
   ],
   "source": [
    "data.isnull().any()"
   ]
  },
  {
   "cell_type": "markdown",
   "id": "9a21a572",
   "metadata": {},
   "source": [
    "# data ma kk rahichha bhanara not imp to preprocessing"
   ]
  },
  {
   "cell_type": "code",
   "execution_count": 9,
   "id": "058ae98c",
   "metadata": {},
   "outputs": [
    {
     "name": "stderr",
     "output_type": "stream",
     "text": [
      "C:\\ProgramData\\Anaconda3\\lib\\site-packages\\seaborn\\_decorators.py:36: FutureWarning: Pass the following variable as a keyword arg: x. From version 0.12, the only valid positional argument will be `data`, and passing other arguments without an explicit keyword will result in an error or misinterpretation.\n",
      "  warnings.warn(\n"
     ]
    },
    {
     "data": {
      "text/plain": [
       "<AxesSubplot:xlabel='Category', ylabel='count'>"
      ]
     },
     "execution_count": 9,
     "metadata": {},
     "output_type": "execute_result"
    },
    {
     "data": {
      "image/png": "[encoded data removed]",
      "text/plain": [
       "<Figure size 432x288 with 1 Axes>"
      ]
     },
     "metadata": {
      "needs_background": "light"
     },
     "output_type": "display_data"
    }
   ],
   "source": [
    "sns.countplot(data.Category)"
   ]
  },
  {
   "cell_type": "code",
   "execution_count": 10,
   "id": "6542d057",
   "metadata": {},
   "outputs": [],
   "source": [
    "data[\"News_length\"] = data[\"Text\"].str.len()"
   ]
  },
  {
   "cell_type": "code",
   "execution_count": 11,
   "id": "626b12c4",
   "metadata": {},
   "outputs": [
    {
     "data": {
      "text/plain": [
       "0       1866\n",
       "1       2016\n",
       "2       3104\n",
       "3       3618\n",
       "4       2190\n",
       "        ... \n",
       "1485    1266\n",
       "1486    3111\n",
       "1487    1370\n",
       "1488    3242\n",
       "1489    1723\n",
       "Name: News_length, Length: 1490, dtype: int64"
      ]
     },
     "execution_count": 11,
     "metadata": {},
     "output_type": "execute_result"
    }
   ],
   "source": [
    "data[\"News_length\"]"
   ]
  },
  {
   "cell_type": "code",
   "execution_count": 12,
   "id": "fbcdb086",
   "metadata": {},
   "outputs": [
    {
     "name": "stderr",
     "output_type": "stream",
     "text": [
      "C:\\ProgramData\\Anaconda3\\lib\\site-packages\\seaborn\\distributions.py:2557: FutureWarning: `distplot` is a deprecated function and will be removed in a future version. Please adapt your code to use either `displot` (a figure-level function with similar flexibility) or `histplot` (an axes-level function for histograms).\n",
      "  warnings.warn(msg, FutureWarning)\n"
     ]
    },
    {
     "data": {
      "text/plain": [
       "<AxesSubplot:xlabel='News_length', ylabel='Density'>"
      ]
     },
     "execution_count": 12,
     "metadata": {},
     "output_type": "execute_result"
    },
    {
     "data": {
      "image/png": "[encoded data removed]",
      "text/plain": [
       "<Figure size 432x288 with 1 Axes>"
      ]
     },
     "metadata": {
      "needs_background": "light"
     },
     "output_type": "display_data"
    }
   ],
   "source": [
    "sns.distplot(data[\"News_length\"])"
   ]
  },
  {
   "cell_type": "markdown",
   "id": "476f87ed",
   "metadata": {},
   "source": [
    "# Cleaning Data"
   ]
  },
  {
   "cell_type": "code",
   "execution_count": 15,
   "id": "7740f0f0",
   "metadata": {},
   "outputs": [],
   "source": [
    "def process_text(text):\n",
    "    text = text.lower().replace('\\n',' ').replace('\\r',' ').strip()\n",
    "    text = re.sub(' +',' ',text)\n",
    "    text = re.sub(r'[^\\w\\s]','',text)\n",
    "    \n",
    "    \n",
    "    #removing stop word\n",
    "\n",
    "    stop_words = set(stopwords.words('english'))\n",
    "    word_tokens = word_tokenize(text)\n",
    "    filtered_sentence = []\n",
    "    for w in word_tokens:\n",
    "        if w not in stop_words:\n",
    "            filtered_sentence.append(w)\n",
    "            \n",
    "    text = ' '.join(filtered_sentence)\n",
    "    return text"
   ]
  },
  {
   "cell_type": "code",
   "execution_count": 16,
   "id": "522a05d9",
   "metadata": {},
   "outputs": [],
   "source": [
    "data[\"Text_parsed\"] = data['Text'].apply(process_text)"
   ]
  },
  {
   "cell_type": "code",
   "execution_count": 17,
   "id": "9865a53a",
   "metadata": {},
   "outputs": [
    {
     "data": {
      "text/html": [
       "<div>\n",
       "<style scoped>\n",
       "    .dataframe tbody tr th:only-of-type {\n",
       "        vertical-align: middle;\n",
       "    }\n",
       "\n",
       "    .dataframe tbody tr th {\n",
       "        vertical-align: top;\n",
       "    }\n",
       "\n",
       "    .dataframe thead th {\n",
       "        text-align: right;\n",
       "    }\n",
       "</style>\n",
       "<table border=\"1\" class=\"dataframe\">\n",
       "  <thead>\n",
       "    <tr style=\"text-align: right;\">\n",
       "      <th></th>\n",
       "      <th>ArticleId</th>\n",
       "      <th>Text</th>\n",
       "      <th>Category</th>\n",
       "      <th>News_length</th>\n",
       "      <th>Text_parsed</th>\n",
       "    </tr>\n",
       "  </thead>\n",
       "  <tbody>\n",
       "    <tr>\n",
       "      <th>0</th>\n",
       "      <td>1833</td>\n",
       "      <td>worldcom ex-boss launches defence lawyers defe...</td>\n",
       "      <td>business</td>\n",
       "      <td>1866</td>\n",
       "      <td>worldcom exboss launches defence lawyers defen...</td>\n",
       "    </tr>\n",
       "    <tr>\n",
       "      <th>1</th>\n",
       "      <td>154</td>\n",
       "      <td>german business confidence slides german busin...</td>\n",
       "      <td>business</td>\n",
       "      <td>2016</td>\n",
       "      <td>german business confidence slides german busin...</td>\n",
       "    </tr>\n",
       "    <tr>\n",
       "      <th>2</th>\n",
       "      <td>1101</td>\n",
       "      <td>bbc poll indicates economic gloom citizens in ...</td>\n",
       "      <td>business</td>\n",
       "      <td>3104</td>\n",
       "      <td>bbc poll indicates economic gloom citizens maj...</td>\n",
       "    </tr>\n",
       "    <tr>\n",
       "      <th>3</th>\n",
       "      <td>1976</td>\n",
       "      <td>lifestyle  governs mobile choice  faster  bett...</td>\n",
       "      <td>tech</td>\n",
       "      <td>3618</td>\n",
       "      <td>lifestyle governs mobile choice faster better ...</td>\n",
       "    </tr>\n",
       "    <tr>\n",
       "      <th>4</th>\n",
       "      <td>917</td>\n",
       "      <td>enron bosses in $168m payout eighteen former e...</td>\n",
       "      <td>business</td>\n",
       "      <td>2190</td>\n",
       "      <td>enron bosses 168m payout eighteen former enron...</td>\n",
       "    </tr>\n",
       "  </tbody>\n",
       "</table>\n",
       "</div>"
      ],
      "text/plain": [
       "   ArticleId                                               Text  Category  \\\n",
       "0       1833  worldcom ex-boss launches defence lawyers defe...  business   \n",
       "1        154  german business confidence slides german busin...  business   \n",
       "2       1101  bbc poll indicates economic gloom citizens in ...  business   \n",
       "3       1976  lifestyle  governs mobile choice  faster  bett...      tech   \n",
       "4        917  enron bosses in $168m payout eighteen former e...  business   \n",
       "\n",
       "   News_length                                        Text_parsed  \n",
       "0         1866  worldcom exboss launches defence lawyers defen...  \n",
       "1         2016  german business confidence slides german busin...  \n",
       "2         3104  bbc poll indicates economic gloom citizens maj...  \n",
       "3         3618  lifestyle governs mobile choice faster better ...  \n",
       "4         2190  enron bosses 168m payout eighteen former enron...  "
      ]
     },
     "execution_count": 17,
     "metadata": {},
     "output_type": "execute_result"
    }
   ],
   "source": [
    "data.head()"
   ]
  },
  {
   "cell_type": "markdown",
   "id": "f3e254ed",
   "metadata": {},
   "source": [
    "# lable encoding"
   ]
  },
  {
   "cell_type": "code",
   "execution_count": 18,
   "id": "695cb39b",
   "metadata": {},
   "outputs": [],
   "source": [
    "lable_encoder = preprocessing.LabelEncoder()\n",
    "data['Category_target'] = lable_encoder.fit_transform(data['Category'])"
   ]
  },
  {
   "cell_type": "code",
   "execution_count": 19,
   "id": "9c875101",
   "metadata": {},
   "outputs": [
    {
     "data": {
      "text/html": [
       "<div>\n",
       "<style scoped>\n",
       "    .dataframe tbody tr th:only-of-type {\n",
       "        vertical-align: middle;\n",
       "    }\n",
       "\n",
       "    .dataframe tbody tr th {\n",
       "        vertical-align: top;\n",
       "    }\n",
       "\n",
       "    .dataframe thead th {\n",
       "        text-align: right;\n",
       "    }\n",
       "</style>\n",
       "<table border=\"1\" class=\"dataframe\">\n",
       "  <thead>\n",
       "    <tr style=\"text-align: right;\">\n",
       "      <th></th>\n",
       "      <th>ArticleId</th>\n",
       "      <th>Text</th>\n",
       "      <th>Category</th>\n",
       "      <th>News_length</th>\n",
       "      <th>Text_parsed</th>\n",
       "      <th>Category_target</th>\n",
       "    </tr>\n",
       "  </thead>\n",
       "  <tbody>\n",
       "    <tr>\n",
       "      <th>0</th>\n",
       "      <td>1833</td>\n",
       "      <td>worldcom ex-boss launches defence lawyers defe...</td>\n",
       "      <td>business</td>\n",
       "      <td>1866</td>\n",
       "      <td>worldcom exboss launches defence lawyers defen...</td>\n",
       "      <td>0</td>\n",
       "    </tr>\n",
       "    <tr>\n",
       "      <th>1</th>\n",
       "      <td>154</td>\n",
       "      <td>german business confidence slides german busin...</td>\n",
       "      <td>business</td>\n",
       "      <td>2016</td>\n",
       "      <td>german business confidence slides german busin...</td>\n",
       "      <td>0</td>\n",
       "    </tr>\n",
       "    <tr>\n",
       "      <th>2</th>\n",
       "      <td>1101</td>\n",
       "      <td>bbc poll indicates economic gloom citizens in ...</td>\n",
       "      <td>business</td>\n",
       "      <td>3104</td>\n",
       "      <td>bbc poll indicates economic gloom citizens maj...</td>\n",
       "      <td>0</td>\n",
       "    </tr>\n",
       "    <tr>\n",
       "      <th>3</th>\n",
       "      <td>1976</td>\n",
       "      <td>lifestyle  governs mobile choice  faster  bett...</td>\n",
       "      <td>tech</td>\n",
       "      <td>3618</td>\n",
       "      <td>lifestyle governs mobile choice faster better ...</td>\n",
       "      <td>4</td>\n",
       "    </tr>\n",
       "    <tr>\n",
       "      <th>4</th>\n",
       "      <td>917</td>\n",
       "      <td>enron bosses in $168m payout eighteen former e...</td>\n",
       "      <td>business</td>\n",
       "      <td>2190</td>\n",
       "      <td>enron bosses 168m payout eighteen former enron...</td>\n",
       "      <td>0</td>\n",
       "    </tr>\n",
       "  </tbody>\n",
       "</table>\n",
       "</div>"
      ],
      "text/plain": [
       "   ArticleId                                               Text  Category  \\\n",
       "0       1833  worldcom ex-boss launches defence lawyers defe...  business   \n",
       "1        154  german business confidence slides german busin...  business   \n",
       "2       1101  bbc poll indicates economic gloom citizens in ...  business   \n",
       "3       1976  lifestyle  governs mobile choice  faster  bett...      tech   \n",
       "4        917  enron bosses in $168m payout eighteen former e...  business   \n",
       "\n",
       "   News_length                                        Text_parsed  \\\n",
       "0         1866  worldcom exboss launches defence lawyers defen...   \n",
       "1         2016  german business confidence slides german busin...   \n",
       "2         3104  bbc poll indicates economic gloom citizens maj...   \n",
       "3         3618  lifestyle governs mobile choice faster better ...   \n",
       "4         2190  enron bosses 168m payout eighteen former enron...   \n",
       "\n",
       "   Category_target  \n",
       "0                0  \n",
       "1                0  \n",
       "2                0  \n",
       "3                4  \n",
       "4                0  "
      ]
     },
     "execution_count": 19,
     "metadata": {},
     "output_type": "execute_result"
    }
   ],
   "source": [
    "data.head()"
   ]
  },
  {
   "cell_type": "code",
   "execution_count": 20,
   "id": "3057e334",
   "metadata": {},
   "outputs": [],
   "source": [
    "data.to_csv(\"BBC_News_Processed.csv\")"
   ]
  },
  {
   "cell_type": "markdown",
   "id": "b72fbfdc",
   "metadata": {},
   "source": [
    "# spliting Data into train test split"
   ]
  },
  {
   "cell_type": "code",
   "execution_count": 21,
   "id": "42d321dd",
   "metadata": {},
   "outputs": [],
   "source": [
    "X_train , X_test , y_train , y_test = train_test_split(data['Text_parsed'],\n",
    "                                                      data['Category_target'],\n",
    "                                                      test_size = 0.2,\n",
    "                                                      random_state = 8)\n",
    "\n"
   ]
  },
  {
   "cell_type": "code",
   "execution_count": 22,
   "id": "621179bb",
   "metadata": {},
   "outputs": [
    {
     "data": {
      "text/plain": [
       "(1192,)"
      ]
     },
     "execution_count": 22,
     "metadata": {},
     "output_type": "execute_result"
    }
   ],
   "source": [
    "X_train.shape"
   ]
  },
  {
   "cell_type": "code",
   "execution_count": 23,
   "id": "19e38e73",
   "metadata": {},
   "outputs": [
    {
     "data": {
      "text/plain": [
       "(298,)"
      ]
     },
     "execution_count": 23,
     "metadata": {},
     "output_type": "execute_result"
    }
   ],
   "source": [
    "X_test.shape"
   ]
  },
  {
   "cell_type": "markdown",
   "id": "06004902",
   "metadata": {},
   "source": [
    "# Vectorizing The Text(word embedding)"
   ]
  },
  {
   "cell_type": "markdown",
   "id": "6a7e0121",
   "metadata": {},
   "source": [
    "# TF-IDF "
   ]
  },
  {
   "cell_type": "code",
   "execution_count": 24,
   "id": "ab806dd8",
   "metadata": {},
   "outputs": [],
   "source": [
    "ngram_range = (1,2)\n",
    "min_df = 10\n",
    "max_df = 1\n",
    "max_features = 300\n"
   ]
  },
  {
   "cell_type": "code",
   "execution_count": 25,
   "id": "8f53b53d",
   "metadata": {},
   "outputs": [],
   "source": [
    "tfidf = TfidfVectorizer(encoding='utf-8',\n",
    "                       ngram_range= ngram_range,\n",
    "                       stop_words=None,\n",
    "                       lowercase=False,\n",
    "                       max_df= 0.50,\n",
    "                       min_df = 5,\n",
    "                       max_features= max_features,\n",
    "                       norm = 'l2',\n",
    "                       sublinear_tf= True)\n",
    "\n",
    "features_train = tfidf.fit_transform(X_train).toarray()\n",
    "labels_train = y_train\n",
    "\n",
    "#to pass the featurs of traing data to ML model\n",
    "\n",
    "features_test = tfidf.transform(X_test).toarray()\n",
    "labels_test = y_test\n"
   ]
  },
  {
   "cell_type": "code",
   "execution_count": 26,
   "id": "4b449e3f",
   "metadata": {},
   "outputs": [],
   "source": [
    "#max_df"
   ]
  },
  {
   "cell_type": "code",
   "execution_count": 27,
   "id": "fcc692a5",
   "metadata": {},
   "outputs": [],
   "source": [
    "#min_df"
   ]
  },
  {
   "cell_type": "code",
   "execution_count": 28,
   "id": "8a4194f4",
   "metadata": {},
   "outputs": [],
   "source": [
    "#features_train.shape"
   ]
  },
  {
   "cell_type": "code",
   "execution_count": 29,
   "id": "e39aecb7",
   "metadata": {},
   "outputs": [
    {
     "data": {
      "text/html": [
       "<div>\n",
       "<style scoped>\n",
       "    .dataframe tbody tr th:only-of-type {\n",
       "        vertical-align: middle;\n",
       "    }\n",
       "\n",
       "    .dataframe tbody tr th {\n",
       "        vertical-align: top;\n",
       "    }\n",
       "\n",
       "    .dataframe thead th {\n",
       "        text-align: right;\n",
       "    }\n",
       "</style>\n",
       "<table border=\"1\" class=\"dataframe\">\n",
       "  <thead>\n",
       "    <tr style=\"text-align: right;\">\n",
       "      <th></th>\n",
       "      <th>ArticleId</th>\n",
       "      <th>Text</th>\n",
       "      <th>Category</th>\n",
       "      <th>News_length</th>\n",
       "      <th>Text_parsed</th>\n",
       "      <th>Category_target</th>\n",
       "    </tr>\n",
       "  </thead>\n",
       "  <tbody>\n",
       "    <tr>\n",
       "      <th>0</th>\n",
       "      <td>1833</td>\n",
       "      <td>worldcom ex-boss launches defence lawyers defe...</td>\n",
       "      <td>business</td>\n",
       "      <td>1866</td>\n",
       "      <td>worldcom exboss launches defence lawyers defen...</td>\n",
       "      <td>0</td>\n",
       "    </tr>\n",
       "    <tr>\n",
       "      <th>1</th>\n",
       "      <td>154</td>\n",
       "      <td>german business confidence slides german busin...</td>\n",
       "      <td>business</td>\n",
       "      <td>2016</td>\n",
       "      <td>german business confidence slides german busin...</td>\n",
       "      <td>0</td>\n",
       "    </tr>\n",
       "    <tr>\n",
       "      <th>2</th>\n",
       "      <td>1101</td>\n",
       "      <td>bbc poll indicates economic gloom citizens in ...</td>\n",
       "      <td>business</td>\n",
       "      <td>3104</td>\n",
       "      <td>bbc poll indicates economic gloom citizens maj...</td>\n",
       "      <td>0</td>\n",
       "    </tr>\n",
       "    <tr>\n",
       "      <th>3</th>\n",
       "      <td>1976</td>\n",
       "      <td>lifestyle  governs mobile choice  faster  bett...</td>\n",
       "      <td>tech</td>\n",
       "      <td>3618</td>\n",
       "      <td>lifestyle governs mobile choice faster better ...</td>\n",
       "      <td>4</td>\n",
       "    </tr>\n",
       "    <tr>\n",
       "      <th>4</th>\n",
       "      <td>917</td>\n",
       "      <td>enron bosses in $168m payout eighteen former e...</td>\n",
       "      <td>business</td>\n",
       "      <td>2190</td>\n",
       "      <td>enron bosses 168m payout eighteen former enron...</td>\n",
       "      <td>0</td>\n",
       "    </tr>\n",
       "    <tr>\n",
       "      <th>5</th>\n",
       "      <td>1582</td>\n",
       "      <td>howard  truanted to play snooker  conservative...</td>\n",
       "      <td>politics</td>\n",
       "      <td>1588</td>\n",
       "      <td>howard truanted play snooker conservative lead...</td>\n",
       "      <td>2</td>\n",
       "    </tr>\n",
       "    <tr>\n",
       "      <th>6</th>\n",
       "      <td>651</td>\n",
       "      <td>wales silent on grand slam talk rhys williams ...</td>\n",
       "      <td>sport</td>\n",
       "      <td>1988</td>\n",
       "      <td>wales silent grand slam talk rhys williams say...</td>\n",
       "      <td>3</td>\n",
       "    </tr>\n",
       "    <tr>\n",
       "      <th>7</th>\n",
       "      <td>1797</td>\n",
       "      <td>french honour for director parker british film...</td>\n",
       "      <td>entertainment</td>\n",
       "      <td>1342</td>\n",
       "      <td>french honour director parker british film dir...</td>\n",
       "      <td>1</td>\n",
       "    </tr>\n",
       "    <tr>\n",
       "      <th>8</th>\n",
       "      <td>2034</td>\n",
       "      <td>car giant hit by mercedes slump a slump in pro...</td>\n",
       "      <td>business</td>\n",
       "      <td>2609</td>\n",
       "      <td>car giant hit mercedes slump slump profitabili...</td>\n",
       "      <td>0</td>\n",
       "    </tr>\n",
       "    <tr>\n",
       "      <th>9</th>\n",
       "      <td>1866</td>\n",
       "      <td>fockers fuel festive film chart comedy meet th...</td>\n",
       "      <td>entertainment</td>\n",
       "      <td>1368</td>\n",
       "      <td>fockers fuel festive film chart comedy meet fo...</td>\n",
       "      <td>1</td>\n",
       "    </tr>\n",
       "    <tr>\n",
       "      <th>10</th>\n",
       "      <td>1683</td>\n",
       "      <td>blair rejects iraq advice calls tony blair has...</td>\n",
       "      <td>politics</td>\n",
       "      <td>3366</td>\n",
       "      <td>blair rejects iraq advice calls tony blair rej...</td>\n",
       "      <td>2</td>\n",
       "    </tr>\n",
       "    <tr>\n",
       "      <th>11</th>\n",
       "      <td>1153</td>\n",
       "      <td>housewives lift channel 4 ratings the debut of...</td>\n",
       "      <td>entertainment</td>\n",
       "      <td>1177</td>\n",
       "      <td>housewives lift channel 4 ratings debut us tel...</td>\n",
       "      <td>1</td>\n",
       "    </tr>\n",
       "    <tr>\n",
       "      <th>12</th>\n",
       "      <td>1028</td>\n",
       "      <td>uk coal plunges into deeper loss shares in uk ...</td>\n",
       "      <td>business</td>\n",
       "      <td>1393</td>\n",
       "      <td>uk coal plunges deeper loss shares uk coal fal...</td>\n",
       "      <td>0</td>\n",
       "    </tr>\n",
       "    <tr>\n",
       "      <th>13</th>\n",
       "      <td>812</td>\n",
       "      <td>bp surges ahead on high oil price oil giant bp...</td>\n",
       "      <td>business</td>\n",
       "      <td>1815</td>\n",
       "      <td>bp surges ahead high oil price oil giant bp an...</td>\n",
       "      <td>0</td>\n",
       "    </tr>\n",
       "    <tr>\n",
       "      <th>14</th>\n",
       "      <td>707</td>\n",
       "      <td>ireland 21-19 argentina an injury-time dropped...</td>\n",
       "      <td>sport</td>\n",
       "      <td>2388</td>\n",
       "      <td>ireland 2119 argentina injurytime dropped goal...</td>\n",
       "      <td>3</td>\n",
       "    </tr>\n",
       "    <tr>\n",
       "      <th>15</th>\n",
       "      <td>1588</td>\n",
       "      <td>wenger signs new deal arsenal manager arsene w...</td>\n",
       "      <td>sport</td>\n",
       "      <td>1656</td>\n",
       "      <td>wenger signs new deal arsenal manager arsene w...</td>\n",
       "      <td>3</td>\n",
       "    </tr>\n",
       "    <tr>\n",
       "      <th>16</th>\n",
       "      <td>342</td>\n",
       "      <td>u2 s desire to be number one u2  who have won ...</td>\n",
       "      <td>entertainment</td>\n",
       "      <td>4808</td>\n",
       "      <td>u2 desire number one u2 three prestigious gram...</td>\n",
       "      <td>1</td>\n",
       "    </tr>\n",
       "    <tr>\n",
       "      <th>17</th>\n",
       "      <td>486</td>\n",
       "      <td>hantuchova in dubai last eight daniela hantuch...</td>\n",
       "      <td>sport</td>\n",
       "      <td>1600</td>\n",
       "      <td>hantuchova dubai last eight daniela hantuchova...</td>\n",
       "      <td>3</td>\n",
       "    </tr>\n",
       "    <tr>\n",
       "      <th>18</th>\n",
       "      <td>1344</td>\n",
       "      <td>melzer shocks agassi in san jose second seed a...</td>\n",
       "      <td>sport</td>\n",
       "      <td>1146</td>\n",
       "      <td>melzer shocks agassi san jose second seed andr...</td>\n",
       "      <td>3</td>\n",
       "    </tr>\n",
       "    <tr>\n",
       "      <th>19</th>\n",
       "      <td>1552</td>\n",
       "      <td>moving mobile improves golf swing a mobile pho...</td>\n",
       "      <td>tech</td>\n",
       "      <td>1532</td>\n",
       "      <td>moving mobile improves golf swing mobile phone...</td>\n",
       "      <td>4</td>\n",
       "    </tr>\n",
       "  </tbody>\n",
       "</table>\n",
       "</div>"
      ],
      "text/plain": [
       "    ArticleId                                               Text  \\\n",
       "0        1833  worldcom ex-boss launches defence lawyers defe...   \n",
       "1         154  german business confidence slides german busin...   \n",
       "2        1101  bbc poll indicates economic gloom citizens in ...   \n",
       "3        1976  lifestyle  governs mobile choice  faster  bett...   \n",
       "4         917  enron bosses in $168m payout eighteen former e...   \n",
       "5        1582  howard  truanted to play snooker  conservative...   \n",
       "6         651  wales silent on grand slam talk rhys williams ...   \n",
       "7        1797  french honour for director parker british film...   \n",
       "8        2034  car giant hit by mercedes slump a slump in pro...   \n",
       "9        1866  fockers fuel festive film chart comedy meet th...   \n",
       "10       1683  blair rejects iraq advice calls tony blair has...   \n",
       "11       1153  housewives lift channel 4 ratings the debut of...   \n",
       "12       1028  uk coal plunges into deeper loss shares in uk ...   \n",
       "13        812  bp surges ahead on high oil price oil giant bp...   \n",
       "14        707  ireland 21-19 argentina an injury-time dropped...   \n",
       "15       1588  wenger signs new deal arsenal manager arsene w...   \n",
       "16        342  u2 s desire to be number one u2  who have won ...   \n",
       "17        486  hantuchova in dubai last eight daniela hantuch...   \n",
       "18       1344  melzer shocks agassi in san jose second seed a...   \n",
       "19       1552  moving mobile improves golf swing a mobile pho...   \n",
       "\n",
       "         Category  News_length  \\\n",
       "0        business         1866   \n",
       "1        business         2016   \n",
       "2        business         3104   \n",
       "3            tech         3618   \n",
       "4        business         2190   \n",
       "5        politics         1588   \n",
       "6           sport         1988   \n",
       "7   entertainment         1342   \n",
       "8        business         2609   \n",
       "9   entertainment         1368   \n",
       "10       politics         3366   \n",
       "11  entertainment         1177   \n",
       "12       business         1393   \n",
       "13       business         1815   \n",
       "14          sport         2388   \n",
       "15          sport         1656   \n",
       "16  entertainment         4808   \n",
       "17          sport         1600   \n",
       "18          sport         1146   \n",
       "19           tech         1532   \n",
       "\n",
       "                                          Text_parsed  Category_target  \n",
       "0   worldcom exboss launches defence lawyers defen...                0  \n",
       "1   german business confidence slides german busin...                0  \n",
       "2   bbc poll indicates economic gloom citizens maj...                0  \n",
       "3   lifestyle governs mobile choice faster better ...                4  \n",
       "4   enron bosses 168m payout eighteen former enron...                0  \n",
       "5   howard truanted play snooker conservative lead...                2  \n",
       "6   wales silent grand slam talk rhys williams say...                3  \n",
       "7   french honour director parker british film dir...                1  \n",
       "8   car giant hit mercedes slump slump profitabili...                0  \n",
       "9   fockers fuel festive film chart comedy meet fo...                1  \n",
       "10  blair rejects iraq advice calls tony blair rej...                2  \n",
       "11  housewives lift channel 4 ratings debut us tel...                1  \n",
       "12  uk coal plunges deeper loss shares uk coal fal...                0  \n",
       "13  bp surges ahead high oil price oil giant bp an...                0  \n",
       "14  ireland 2119 argentina injurytime dropped goal...                3  \n",
       "15  wenger signs new deal arsenal manager arsene w...                3  \n",
       "16  u2 desire number one u2 three prestigious gram...                1  \n",
       "17  hantuchova dubai last eight daniela hantuchova...                3  \n",
       "18  melzer shocks agassi san jose second seed andr...                3  \n",
       "19  moving mobile improves golf swing mobile phone...                4  "
      ]
     },
     "execution_count": 29,
     "metadata": {},
     "output_type": "execute_result"
    }
   ],
   "source": [
    "data.head(20)"
   ]
  },
  {
   "cell_type": "markdown",
   "id": "188564f1",
   "metadata": {},
   "source": [
    "# Bulding Models"
   ]
  },
  {
   "cell_type": "markdown",
   "id": "0afc80a6",
   "metadata": {},
   "source": [
    "# Random Forest"
   ]
  },
  {
   "cell_type": "code",
   "execution_count": 30,
   "id": "86780ad0",
   "metadata": {},
   "outputs": [
    {
     "name": "stdout",
     "output_type": "stream",
     "text": [
      "Accuracy 0.9395973154362416\n"
     ]
    }
   ],
   "source": [
    "from sklearn.ensemble import RandomForestClassifier\n",
    "from sklearn.metrics import accuracy_score, classification_report\n",
    "\n",
    "model_rfc = RandomForestClassifier()\n",
    "model_rfc1 = model_rfc.fit(features_train,labels_train)\n",
    "model_predictions = model_rfc1.predict(features_test)\n",
    "\n",
    "print('Accuracy',accuracy_score(labels_test, model_predictions))\n",
    "#print(classification_report(lables_))"
   ]
  },
  {
   "cell_type": "code",
   "execution_count": 31,
   "id": "d00acdc5",
   "metadata": {},
   "outputs": [],
   "source": [
    "a = 'A California democrats joke during Wednesdays crypto hearing has spurred the creation of mongoose coin '"
   ]
  },
  {
   "cell_type": "code",
   "execution_count": 32,
   "id": "edc7583f",
   "metadata": {},
   "outputs": [],
   "source": [
    "b = tfidf.transform([a]).toarray()"
   ]
  },
  {
   "cell_type": "code",
   "execution_count": null,
   "id": "66a2f452",
   "metadata": {},
   "outputs": [],
   "source": []
  },
  {
   "cell_type": "code",
   "execution_count": 33,
   "id": "47c97b6b",
   "metadata": {},
   "outputs": [
    {
     "name": "stdout",
     "output_type": "stream",
     "text": [
      "[3]\n"
     ]
    }
   ],
   "source": [
    "print(model_rfc.predict(b))"
   ]
  },
  {
   "cell_type": "code",
   "execution_count": 34,
   "id": "4a9d37d8",
   "metadata": {},
   "outputs": [
    {
     "name": "stdout",
     "output_type": "stream",
     "text": [
      "Accuracy 0.9161073825503355\n"
     ]
    }
   ],
   "source": [
    "from sklearn.neighbors import KNeighborsClassifier\n",
    "from sklearn.metrics import accuracy_score, classification_report\n",
    "\n",
    "model_knn = KNeighborsClassifier()\n",
    "model_knn1 = model_knn.fit(features_train,labels_train)\n",
    "model_predictions = model_knn1.predict(features_test)\n",
    "print('Accuracy',accuracy_score(labels_test, model_predictions))"
   ]
  },
  {
   "cell_type": "code",
   "execution_count": null,
   "id": "2ce9f6f7",
   "metadata": {},
   "outputs": [],
   "source": []
  },
  {
   "cell_type": "code",
   "execution_count": 35,
   "id": "200d6004",
   "metadata": {},
   "outputs": [],
   "source": [
    "b = tfidf.transform([a]).toarray()"
   ]
  },
  {
   "cell_type": "code",
   "execution_count": 36,
   "id": "3f39188e",
   "metadata": {},
   "outputs": [
    {
     "data": {
      "text/plain": [
       "array([2])"
      ]
     },
     "execution_count": 36,
     "metadata": {},
     "output_type": "execute_result"
    }
   ],
   "source": [
    "model_knn.predict(b)"
   ]
  },
  {
   "cell_type": "code",
   "execution_count": 37,
   "id": "31e0cdd5",
   "metadata": {},
   "outputs": [],
   "source": [
    "import joblib\n",
    "import pickle"
   ]
  },
  {
   "cell_type": "code",
   "execution_count": 38,
   "id": "44280ab4",
   "metadata": {},
   "outputs": [],
   "source": [
    "file_knn = open(\"knn_model1.pkl\",\"wb\")\n",
    "joblib.dump(model_knn1,file_knn)\n",
    "file_knn.close()"
   ]
  },
  {
   "cell_type": "code",
   "execution_count": 39,
   "id": "336bf2fe",
   "metadata": {},
   "outputs": [],
   "source": [
    "file_rfc = open(\"rfc_model1.pkl\",'wb')\n",
    "joblib.dump(model_rfc,file_rfc)\n",
    "file_rfc.close()"
   ]
  },
  {
   "cell_type": "code",
   "execution_count": 40,
   "id": "64a50b41",
   "metadata": {},
   "outputs": [],
   "source": [
    "file_vect = open(\"tfidi_model\",'wb')\n",
    "joblib.dump(b,file_vect)\n",
    "file_vect.close()"
   ]
  },
  {
   "cell_type": "code",
   "execution_count": null,
   "id": "1bec9f26",
   "metadata": {},
   "outputs": [],
   "source": []
  }
 ],
 "metadata": {
  "kernelspec": {
   "display_name": "Python 3",
   "language": "python",
   "name": "python3"
  },
  "language_info": {
   "codemirror_mode": {
    "name": "ipython",
    "version": 3
   },
   "file_extension": ".py",
   "mimetype": "text/x-python",
   "name": "python",
   "nbconvert_exporter": "python",
   "pygments_lexer": "ipython3",
   "version": "3.8.8"
  }
 },
 "nbformat": 4,
 "nbformat_minor": 5
}
